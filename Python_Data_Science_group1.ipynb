{
  "nbformat": 4,
  "nbformat_minor": 0,
  "metadata": {
    "colab": {
      "provenance": [],
      "include_colab_link": true
    },
    "kernelspec": {
      "name": "python3",
      "display_name": "Python 3"
    },
    "language_info": {
      "name": "python"
    }
  },
  "cells": [
    {
      "cell_type": "markdown",
      "metadata": {
        "id": "view-in-github",
        "colab_type": "text"
      },
      "source": [
        "<a href=\"https://colab.research.google.com/github/kudzic/Calculator-2.0/blob/master/Python_Data_Science_group1.ipynb\" target=\"_parent\"><img src=\"https://colab.research.google.com/assets/colab-badge.svg\" alt=\"Open In Colab\"/></a>"
      ]
    },
    {
      "cell_type": "code",
      "execution_count": null,
      "metadata": {
        "colab": {
          "base_uri": "https://localhost:8080/"
        },
        "id": "XCyVId6JBKmX",
        "outputId": "2b107a92-4c7d-4713-dca7-8c97b616def1"
      },
      "outputs": [
        {
          "output_type": "stream",
          "name": "stdout",
          "text": [
            "[-1, 2, 5, 8, 11, 14, 17, 20]\n"
          ]
        }
      ],
      "source": [
        "# Exercise 1\n",
        "# Create a list of all integers from -1 to 21 such that their\n",
        "# division by 3 gives the remainder 2. Print every number of that list.\n",
        "list1 = [x for x in range(-1,22) if x%3 ==2]\n",
        "print(list1)\n",
        "#Portia K Chirwa"
      ]
    },
    {
      "cell_type": "code",
      "source": [],
      "metadata": {
        "id": "9IeQXnlHB8IK"
      },
      "execution_count": null,
      "outputs": []
    },
    {
      "cell_type": "code",
      "source": [
        "# Exercise 2\n",
        "# Supppose we have the following strings:\n",
        "haha = \"Mniam\"\n",
        "hehe = ', '\n",
        "hihi = 'Hau'\n",
        "hoho = '!'\n",
        "# Please use the above strings to construct:\n",
        "# 'MniamMniam, HauHauHau!'\n",
        "print(haha*2+hehe+hihi*3+hoho)\n",
        "#Nihad Babayev"
      ],
      "metadata": {
        "colab": {
          "base_uri": "https://localhost:8080/"
        },
        "id": "FAoDP8ErFe9w",
        "outputId": "93ec3c64-bdcd-4a8a-eaa2-7b34def5f21d"
      },
      "execution_count": null,
      "outputs": [
        {
          "output_type": "stream",
          "name": "stdout",
          "text": [
            "MniamMniam, HauHauHau!\n"
          ]
        }
      ]
    },
    {
      "cell_type": "code",
      "source": [
        "# Exercise 3\n",
        "# Let us consider the following sentence:\n",
        "sentence = \"The Vistula students are talented, intelligent, and pretty or handsome, \"\n",
        "sentence += \"but they are all going to fail this course\"\n",
        "# How to get rid of the unpleasant part of the 'sentence'.\n",
        "list_of_words = []\n",
        "word = ''\n",
        "for char in sentence:\n",
        "  word += char\n",
        "  if char == \" \":\n",
        "      list_of_words += [word]\n",
        "      word = ''\n",
        "      continue\n",
        "print(list_of_words)\n",
        "\n",
        "new_sentence =\"\"\n",
        "\n",
        "for word in list_of_words:\n",
        "  print(word)\n",
        "  if word == 'but ':\n",
        "    print(\"1\")\n",
        "    break\n",
        "  else:\n",
        "    new_sentence += word\n",
        "\n",
        "print(new_sentence)\n",
        "#Shelton de Brito \n"
      ],
      "metadata": {
        "colab": {
          "base_uri": "https://localhost:8080/"
        },
        "id": "uLdCtFOOG2Ua",
        "outputId": "cdcffd20-8c28-44a1-9e7b-f0948785ebcb"
      },
      "execution_count": null,
      "outputs": [
        {
          "output_type": "stream",
          "name": "stdout",
          "text": [
            "['The ', 'Vistula ', 'students ', 'are ', 'talented, ', 'intelligent, ', 'and ', 'pretty ', 'or ', 'handsome, ', 'but ', 'they ', 'are ', 'all ', 'going ', 'to ', 'fail ', 'this ']\n",
            "The \n",
            "Vistula \n",
            "students \n",
            "are \n",
            "talented, \n",
            "intelligent, \n",
            "and \n",
            "pretty \n",
            "or \n",
            "handsome, \n",
            "but \n",
            "1\n",
            "The Vistula students are talented, intelligent, and pretty or handsome, \n"
          ]
        }
      ]
    },
    {
      "cell_type": "code",
      "source": [
        "# Exercise 4\n",
        "# Please create a list containing three tuples. Every tuple should , in turn,\n",
        "# contain names of three animals. \n",
        "# Please print all those names of animals one by one.\n",
        "mammals = ('elephants', 'camels', 'wolves')\n",
        "birds = ('condors', 'eagles', 'hawks')\n",
        "reptiles = ('snakes', 'crocodiles', 'lizards')\n",
        "animals = [mammals, birds, reptiles]\n",
        "\n",
        "for a in animals:\n",
        "  for lista in a:\n",
        "    print(lista)\n",
        "#Haoran Liang"
      ],
      "metadata": {
        "colab": {
          "base_uri": "https://localhost:8080/"
        },
        "id": "vaPdZNHAIcpx",
        "outputId": "60d20f85-a38c-4ed9-aff4-7e9f6325e30f"
      },
      "execution_count": null,
      "outputs": [
        {
          "output_type": "stream",
          "name": "stdout",
          "text": [
            "elephants\n",
            "camels\n",
            "wolves\n",
            "condors\n",
            "eagles\n",
            "hawks\n",
            "snakes\n",
            "crocodiles\n",
            "lizards\n"
          ]
        }
      ]
    },
    {
      "cell_type": "code",
      "source": [
        "# Exercise 5\n",
        "# It reqires the module 'math'\n",
        "import math as m\n",
        "# Let us suppose that we as the user to enter a number:\n",
        "mrumru = input(\"Please type in a number!\")\n",
        "# If mrumru is smaller than zero, the interpreter should be delighted\n",
        "# and print cosine of (mrumru * pi/6). \n",
        "# If mrumru is larger than zero, the interpreter should be even\n",
        "# more exalted and print cosine of (mrumru * pi/4).\n",
        "# Otherwise, it should just print cosine of (mrumru * pi/3) \n",
        "\n",
        "\n",
        "# m.janowicz@vistula.edu.pl"
      ],
      "metadata": {
        "colab": {
          "base_uri": "https://localhost:8080/"
        },
        "id": "UYKGJ_DWSYXm",
        "outputId": "0709bc15-08f8-488e-bc6c-bafa8eca86dc"
      },
      "execution_count": null,
      "outputs": [
        {
          "name": "stdout",
          "output_type": "stream",
          "text": [
            "Please type in a number!10\n"
          ]
        }
      ]
    },
    {
      "cell_type": "code",
      "source": [
        "DicHaha={'Aooouu': 10,'wofu wofu':20,'kra kra':30 }\n",
        "DicHaha['kra kra']"
      ],
      "metadata": {
        "colab": {
          "base_uri": "https://localhost:8080/"
        },
        "id": "D6Q-ueu1B9h5",
        "outputId": "9b50609b-4feb-441c-ac33-3d8e511c0e30"
      },
      "execution_count": null,
      "outputs": [
        {
          "output_type": "execute_result",
          "data": {
            "text/plain": [
              "30"
            ]
          },
          "metadata": {},
          "execution_count": 2
        }
      ]
    },
    {
      "cell_type": "code",
      "source": [
        "DicHaha['tash tash']=40\n",
        "DicHaha['tash tash']"
      ],
      "metadata": {
        "colab": {
          "base_uri": "https://localhost:8080/"
        },
        "id": "olxJ1K6RDz3X",
        "outputId": "931bec40-cf7d-4cd7-81f6-bacae13a7072"
      },
      "execution_count": null,
      "outputs": [
        {
          "output_type": "execute_result",
          "data": {
            "text/plain": [
              "40"
            ]
          },
          "metadata": {},
          "execution_count": 4
        }
      ]
    },
    {
      "cell_type": "code",
      "source": [
        "for mwrmwr in DicHaha.keys():\n",
        "  print(DicHaha[mwrmwr])"
      ],
      "metadata": {
        "colab": {
          "base_uri": "https://localhost:8080/"
        },
        "id": "DpYd5EhaEU7W",
        "outputId": "2f06223d-9662-4950-8452-9eac80f5a996"
      },
      "execution_count": null,
      "outputs": [
        {
          "output_type": "stream",
          "name": "stdout",
          "text": [
            "10\n",
            "20\n",
            "30\n",
            "40\n"
          ]
        }
      ]
    },
    {
      "cell_type": "code",
      "source": [],
      "metadata": {
        "id": "q09wrQc9E48H"
      },
      "execution_count": null,
      "outputs": []
    },
    {
      "cell_type": "code",
      "source": [
        "#Kudzai Chidzodzo "
      ],
      "metadata": {
        "id": "09Rc0o-fE4-2"
      },
      "execution_count": null,
      "outputs": []
    },
    {
      "cell_type": "code",
      "source": [
        "# Numpy ways of importing numpy\n",
        "import numpy as np\n",
        "\n",
        "#Using list and range objects\n",
        "einFuchs = [-5,-2,-100,0,12,6]\n",
        "huli =np.array(einFuchs)\n",
        "print(huli)\n",
        "\n",
        "huli2=np.array(range(3,15))\n",
        "print(huli2)\n",
        "\n"
      ],
      "metadata": {
        "id": "41RD6tfdFB3a"
      },
      "execution_count": null,
      "outputs": []
    },
    {
      "cell_type": "code",
      "source": [
        "import matplotlib as plt\n",
        "plt.plot(huli3,np.exp(np.cou))"
      ],
      "metadata": {
        "id": "JGE9cNWBH-RE"
      },
      "execution_count": null,
      "outputs": []
    }
  ]
}